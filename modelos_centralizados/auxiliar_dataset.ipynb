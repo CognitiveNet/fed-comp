{
 "cells": [
  {
   "cell_type": "code",
   "execution_count": 1,
   "metadata": {},
   "outputs": [
    {
     "name": "stdout",
     "output_type": "stream",
     "text": [
      "1125 arquivos copiados com sucesso para D:\\Dataset\\med_dataset3\\test\\Infiltration\n"
     ]
    }
   ],
   "source": [
    "import os\n",
    "import random\n",
    "import shutil\n",
    "\n",
    "# Diretórios de origem e destino\n",
    "src_dir = 'D:\\\\Dataset\\\\med_dataset\\\\test\\\\Infiltration'\n",
    "dst_dir = 'D:\\\\Dataset\\\\med_dataset3\\\\test\\\\Infiltration'\n",
    "\n",
    "# Verifique se o diretório de destino existe, caso contrário, crie-o\n",
    "if not os.path.exists(dst_dir):\n",
    "    os.makedirs(dst_dir)\n",
    "\n",
    "# Liste todos os arquivos no diretório de origem\n",
    "all_files = [f for f in os.listdir(src_dir) if os.path.isfile(os.path.join(src_dir, f))]\n",
    "\n",
    "# Filtre apenas os arquivos .png\n",
    "png_files = [f for f in all_files if f.lower().endswith('.png')]\n",
    "\n",
    "# Embaralhe a lista e pegue metade dos arquivos\n",
    "random.shuffle(png_files)\n",
    "half_files = png_files[:len(png_files)//2]\n",
    "\n",
    "# Copie metade dos arquivos para o diretório de destino\n",
    "for file in half_files:\n",
    "    shutil.copy(os.path.join(src_dir, file), os.path.join(dst_dir, file))\n",
    "\n",
    "print(f'{len(half_files)} arquivos copiados com sucesso para {dst_dir}')\n"
   ]
  },
  {
   "cell_type": "code",
   "execution_count": 2,
   "metadata": {},
   "outputs": [
    {
     "name": "stdout",
     "output_type": "stream",
     "text": [
      "3470 arquivos copiados com sucesso para D:\\Dataset\\med_dataset3\\train\\Infiltration\n"
     ]
    }
   ],
   "source": [
    "# Diretórios de origem e destino\n",
    "src_dir = 'D:\\\\Dataset\\\\med_dataset\\\\train\\\\Infiltration'\n",
    "dst_dir = 'D:\\\\Dataset\\\\med_dataset3\\\\train\\\\Infiltration'\n",
    "\n",
    "# Verifique se o diretório de destino existe, caso contrário, crie-o\n",
    "if not os.path.exists(dst_dir):\n",
    "    os.makedirs(dst_dir)\n",
    "\n",
    "# Liste todos os arquivos no diretório de origem\n",
    "all_files = [f for f in os.listdir(src_dir) if os.path.isfile(os.path.join(src_dir, f))]\n",
    "\n",
    "# Filtre apenas os arquivos .png\n",
    "png_files = [f for f in all_files if f.lower().endswith('.png')]\n",
    "\n",
    "# Embaralhe a lista e pegue metade dos arquivos\n",
    "random.shuffle(png_files)\n",
    "half_files = png_files[:len(png_files)//2]\n",
    "\n",
    "# Copie metade dos arquivos para o diretório de destino\n",
    "for file in half_files:\n",
    "    shutil.copy(os.path.join(src_dir, file), os.path.join(dst_dir, file))\n",
    "\n",
    "print(f'{len(half_files)} arquivos copiados com sucesso para {dst_dir}')\n"
   ]
  }
 ],
 "metadata": {
  "kernelspec": {
   "display_name": "projeto-deeplearning",
   "language": "python",
   "name": "python3"
  },
  "language_info": {
   "codemirror_mode": {
    "name": "ipython",
    "version": 3
   },
   "file_extension": ".py",
   "mimetype": "text/x-python",
   "name": "python",
   "nbconvert_exporter": "python",
   "pygments_lexer": "ipython3",
   "version": "3.9.13"
  },
  "orig_nbformat": 4
 },
 "nbformat": 4,
 "nbformat_minor": 2
}
